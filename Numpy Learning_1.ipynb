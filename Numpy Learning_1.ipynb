{
 "cells": [
  {
   "cell_type": "code",
   "execution_count": 1,
   "id": "e5c59cca",
   "metadata": {},
   "outputs": [],
   "source": [
    "import warnings\n",
    "warnings.filterwarnings(\"ignore\")"
   ]
  },
  {
   "cell_type": "code",
   "execution_count": 2,
   "id": "c87a2ce5",
   "metadata": {},
   "outputs": [],
   "source": [
    "import numpy as np # using NumPy"
   ]
  },
  {
   "cell_type": "markdown",
   "id": "9529e520",
   "metadata": {},
   "source": [
    "**Creating NumPy Arrays From Python List**"
   ]
  },
  {
   "cell_type": "code",
   "execution_count": 3,
   "id": "b743766e",
   "metadata": {},
   "outputs": [],
   "source": [
    "my_list = [0,1,2,3,4,5,6,7,8,9,10]"
   ]
  },
  {
   "cell_type": "code",
   "execution_count": 4,
   "id": "2365908d",
   "metadata": {},
   "outputs": [
    {
     "name": "stdout",
     "output_type": "stream",
     "text": [
      "[ 0  1  2  3  4  5  6  7  8  9 10]\n"
     ]
    }
   ],
   "source": [
    "nparr = np.array(my_list)\n",
    "print(nparr)"
   ]
  },
  {
   "cell_type": "markdown",
   "id": "e0aeac46",
   "metadata": {},
   "source": [
    "**Or From Built-in Method**"
   ]
  },
  {
   "cell_type": "code",
   "execution_count": 6,
   "id": "3a5d7e0e",
   "metadata": {},
   "outputs": [
    {
     "name": "stdout",
     "output_type": "stream",
     "text": [
      "[ 0  1  2  3  4  5  6  7  8  9 10 11 12 13 14]\n"
     ]
    }
   ],
   "source": [
    "nparr=np.arange(0,15)\n",
    "print(nparr)"
   ]
  },
  {
   "cell_type": "markdown",
   "id": "42971c24",
   "metadata": {},
   "source": [
    "**Universal Function - ufunc**\n",
    " \n",
    " Arithmetic Operations we can perform with NumPy Arrays"
   ]
  },
  {
   "cell_type": "code",
   "execution_count": 7,
   "id": "e8022271",
   "metadata": {},
   "outputs": [
    {
     "name": "stdout",
     "output_type": "stream",
     "text": [
      "[ 0  2  4  6  8 10 12 14 16 18 20 22 24 26 28]\n"
     ]
    }
   ],
   "source": [
    "nparr_added = nparr + nparr\n",
    "print(nparr_added)"
   ]
  },
  {
   "cell_type": "code",
   "execution_count": 9,
   "id": "c0699d30",
   "metadata": {},
   "outputs": [
    {
     "name": "stdout",
     "output_type": "stream",
     "text": [
      "[0 0 0 0 0 0 0 0 0 0 0 0 0 0 0]\n"
     ]
    }
   ],
   "source": [
    "nparr_sub = nparr - nparr\n",
    "print(nparr_sub)"
   ]
  },
  {
   "cell_type": "code",
   "execution_count": 12,
   "id": "163ea662",
   "metadata": {},
   "outputs": [
    {
     "name": "stdout",
     "output_type": "stream",
     "text": [
      "[  0   1   4   9  16  25  36  49  64  81 100 121 144 169 196]\n"
     ]
    }
   ],
   "source": [
    "nparr_mult = nparr * nparr\n",
    "print(nparr_mult)"
   ]
  },
  {
   "cell_type": "code",
   "execution_count": 13,
   "id": "ba4e0595",
   "metadata": {},
   "outputs": [
    {
     "name": "stdout",
     "output_type": "stream",
     "text": [
      "[nan  1.  1.  1.  1.  1.  1.  1.  1.  1.  1.  1.  1.  1.  1.]\n"
     ]
    }
   ],
   "source": [
    "nparr_div = nparr / nparr\n",
    "print(nparr_div)"
   ]
  },
  {
   "cell_type": "code",
   "execution_count": 15,
   "id": "9298271d",
   "metadata": {},
   "outputs": [
    {
     "name": "stdout",
     "output_type": "stream",
     "text": [
      "[  0  10  20  30  40  50  60  70  80  90 100 110 120 130 140]\n"
     ]
    }
   ],
   "source": [
    "nparr_esc = nparr * 10\n",
    "print(nparr_esc)              # multiply by a scalars"
   ]
  },
  {
   "cell_type": "code",
   "execution_count": 17,
   "id": "d250dc33",
   "metadata": {},
   "outputs": [
    {
     "name": "stdout",
     "output_type": "stream",
     "text": [
      "[       inf 1.         0.5        0.33333333 0.25       0.2\n",
      " 0.16666667 0.14285714 0.125      0.11111111 0.1        0.09090909\n",
      " 0.08333333 0.07692308 0.07142857]\n"
     ]
    }
   ],
   "source": [
    "nparr_one_div = 1/nparr\n",
    "print(nparr_one_div)\n",
    "\n",
    "#one divided by zero\n",
    "#inf signifies infinity for one divided by zero at the very first element"
   ]
  },
  {
   "cell_type": "code",
   "execution_count": 18,
   "id": "3d793bf2",
   "metadata": {},
   "outputs": [
    {
     "name": "stdout",
     "output_type": "stream",
     "text": [
      "[  0   1   4   9  16  25  36  49  64  81 100 121 144 169 196]\n"
     ]
    }
   ],
   "source": [
    "#Exponent - Arrays - Squaring everything - Two options\n",
    "np_arr_exp1 = nparr ** 2\n",
    "print(np_arr_exp1)"
   ]
  },
  {
   "cell_type": "code",
   "execution_count": 19,
   "id": "5bdd00cb",
   "metadata": {},
   "outputs": [
    {
     "name": "stdout",
     "output_type": "stream",
     "text": [
      "[  0   1   4   9  16  25  36  49  64  81 100 121 144 169 196]\n"
     ]
    }
   ],
   "source": [
    "np_arr_exp2 = np.square(nparr) \n",
    "print(np_arr_exp2)"
   ]
  },
  {
   "cell_type": "code",
   "execution_count": 20,
   "id": "9e734c6e",
   "metadata": {},
   "outputs": [
    {
     "name": "stdout",
     "output_type": "stream",
     "text": [
      "[0.         1.         1.41421356 1.73205081 2.         2.23606798\n",
      " 2.44948974 2.64575131 2.82842712 3.         3.16227766 3.31662479\n",
      " 3.46410162 3.60555128 3.74165739]\n"
     ]
    }
   ],
   "source": [
    "nparr_sr = np.sqrt(nparr)   # Square Root\n",
    "print(nparr_sr)"
   ]
  },
  {
   "cell_type": "code",
   "execution_count": 21,
   "id": "ecd3ca79",
   "metadata": {},
   "outputs": [
    {
     "name": "stdout",
     "output_type": "stream",
     "text": [
      "[ 0.  1.  2.  3.  4.  5.  6.  7.  8.  9. 10. 11. 12. 13. 14.]\n"
     ]
    }
   ],
   "source": [
    "nparr_sr = np.sqrt(np_arr_exp1) \n",
    "print(nparr_sr)"
   ]
  },
  {
   "cell_type": "code",
   "execution_count": 22,
   "id": "7e32b9ff",
   "metadata": {},
   "outputs": [
    {
     "name": "stdout",
     "output_type": "stream",
     "text": [
      "[ 0.  1.  2.  3.  4.  5.  6.  7.  8.  9. 10. 11. 12. 13. 14.]\n"
     ]
    }
   ],
   "source": [
    "nparr_sr = np.sqrt(np_arr_exp2) \n",
    "print(nparr_sr)"
   ]
  },
  {
   "cell_type": "code",
   "execution_count": 23,
   "id": "2c36b2b9",
   "metadata": {},
   "outputs": [
    {
     "name": "stdout",
     "output_type": "stream",
     "text": [
      "[1.00000000e+00 2.71828183e+00 7.38905610e+00 2.00855369e+01\n",
      " 5.45981500e+01 1.48413159e+02 4.03428793e+02 1.09663316e+03\n",
      " 2.98095799e+03 8.10308393e+03 2.20264658e+04 5.98741417e+04\n",
      " 1.62754791e+05 4.42413392e+05 1.20260428e+06]\n"
     ]
    }
   ],
   "source": [
    "#Exponential With Arrays\n",
    "np_arr_exp3 = np.exp(nparr) \n",
    "print(np_arr_exp3)"
   ]
  },
  {
   "cell_type": "code",
   "execution_count": 24,
   "id": "e76d593a",
   "metadata": {},
   "outputs": [
    {
     "name": "stdout",
     "output_type": "stream",
     "text": [
      "14\n"
     ]
    }
   ],
   "source": [
    "nparr_max = np.max(nparr)\n",
    "print(nparr_max)             #Maximum"
   ]
  },
  {
   "cell_type": "code",
   "execution_count": 25,
   "id": "bc88aafc",
   "metadata": {},
   "outputs": [
    {
     "name": "stdout",
     "output_type": "stream",
     "text": [
      "0\n"
     ]
    }
   ],
   "source": [
    "nparr_min = np.min(nparr)\n",
    "print(nparr_min)              #Minimum"
   ]
  },
  {
   "cell_type": "code",
   "execution_count": 26,
   "id": "7e5ab37b",
   "metadata": {},
   "outputs": [
    {
     "name": "stdout",
     "output_type": "stream",
     "text": [
      "[ 0.          0.84147098  0.90929743  0.14112001 -0.7568025  -0.95892427\n",
      " -0.2794155   0.6569866   0.98935825  0.41211849 -0.54402111 -0.99999021\n",
      " -0.53657292  0.42016704  0.99060736]\n"
     ]
    }
   ],
   "source": [
    "#Trigonometric Functions - Passing every element into since function\n",
    "nparr_sin = np.sin(nparr)\n",
    "print(nparr_sin)"
   ]
  },
  {
   "cell_type": "code",
   "execution_count": 27,
   "id": "2a807bfb",
   "metadata": {},
   "outputs": [
    {
     "name": "stdout",
     "output_type": "stream",
     "text": [
      "[      -inf 0.         0.69314718 1.09861229 1.38629436 1.60943791\n",
      " 1.79175947 1.94591015 2.07944154 2.19722458 2.30258509 2.39789527\n",
      " 2.48490665 2.56494936 2.63905733]\n"
     ]
    }
   ],
   "source": [
    "#Logarithmic - Note: the very first one is minus infinity\n",
    "nparr_log = np.log(nparr)\n",
    "print(nparr_log)"
   ]
  },
  {
   "cell_type": "markdown",
   "id": "9655b854",
   "metadata": {},
   "source": [
    "**Numpy Practicing Exercises:-**"
   ]
  },
  {
   "cell_type": "markdown",
   "id": "afc2eb13",
   "metadata": {},
   "source": [
    "**1. Create an Array of the integers from 10 to 50**"
   ]
  },
  {
   "cell_type": "code",
   "execution_count": 28,
   "id": "4f04d2b8",
   "metadata": {},
   "outputs": [
    {
     "name": "stdout",
     "output_type": "stream",
     "text": [
      "[10 11 12 13 14 15 16 17 18 19 20 21 22 23 24 25 26 27 28 29 30 31 32 33\n",
      " 34 35 36 37 38 39 40 41 42 43 44 45 46 47 48 49 50]\n"
     ]
    }
   ],
   "source": [
    "arr_10to50 = np.arange(10,51)\n",
    "print(arr_10to50)"
   ]
  },
  {
   "cell_type": "markdown",
   "id": "eaf73091",
   "metadata": {},
   "source": [
    "**2. Create an Array of the Even integers from 10 to 50**"
   ]
  },
  {
   "cell_type": "code",
   "execution_count": 34,
   "id": "212427dd",
   "metadata": {},
   "outputs": [
    {
     "name": "stdout",
     "output_type": "stream",
     "text": [
      "[10 12 14 16 18 20 22 24 26 28 30 32 34 36 38 40 42 44 46 48 50]\n"
     ]
    }
   ],
   "source": [
    "arr_10to50_even = np.arange(10,51,2)\n",
    "print(arr_10to50_even)"
   ]
  },
  {
   "cell_type": "markdown",
   "id": "fb99fc09",
   "metadata": {},
   "source": [
    "**3. Create an Array of the Odd integers from 11 to 51**"
   ]
  },
  {
   "cell_type": "code",
   "execution_count": 37,
   "id": "1012f735",
   "metadata": {},
   "outputs": [
    {
     "name": "stdout",
     "output_type": "stream",
     "text": [
      "[11 13 15 17 19 21 23 25 27 29 31 33 35 37 39 41 43 45 47 49 51]\n"
     ]
    }
   ],
   "source": [
    "arr_11to51_odd = np.arange(11,52,2)\n",
    "print(arr_11to51_odd)"
   ]
  },
  {
   "cell_type": "markdown",
   "id": "ac360df0",
   "metadata": {},
   "source": [
    "**4. Create a 3x3 matrix with values ranging from 1 to 9**"
   ]
  },
  {
   "cell_type": "code",
   "execution_count": 38,
   "id": "43ee508c",
   "metadata": {},
   "outputs": [
    {
     "data": {
      "text/plain": [
       "array([[1, 2, 3],\n",
       "       [4, 5, 6],\n",
       "       [7, 8, 9]])"
      ]
     },
     "execution_count": 38,
     "metadata": {},
     "output_type": "execute_result"
    }
   ],
   "source": [
    "np.arange(1,10).reshape(3,3)"
   ]
  },
  {
   "cell_type": "code",
   "execution_count": 41,
   "id": "615cdeac",
   "metadata": {},
   "outputs": [
    {
     "data": {
      "text/plain": [
       "array([[ 6,  7,  8],\n",
       "       [ 9, 10, 11],\n",
       "       [12, 13, 14]])"
      ]
     },
     "execution_count": 41,
     "metadata": {},
     "output_type": "execute_result"
    }
   ],
   "source": [
    "np.arange(6,15).reshape(3,3)"
   ]
  },
  {
   "cell_type": "code",
   "execution_count": 50,
   "id": "a9d7b6e6",
   "metadata": {},
   "outputs": [
    {
     "data": {
      "text/plain": [
       "array([[ 4,  5],\n",
       "       [ 6,  7],\n",
       "       [ 8,  9],\n",
       "       [10, 11]])"
      ]
     },
     "execution_count": 50,
     "metadata": {},
     "output_type": "execute_result"
    }
   ],
   "source": [
    "np.arange(4,12).reshape(4,2)"
   ]
  },
  {
   "cell_type": "code",
   "execution_count": 53,
   "id": "5fda77dc",
   "metadata": {},
   "outputs": [
    {
     "data": {
      "text/plain": [
       "array([[4, 5, 6],\n",
       "       [7, 8, 9]])"
      ]
     },
     "execution_count": 53,
     "metadata": {},
     "output_type": "execute_result"
    }
   ],
   "source": [
    "np.arange(4,10).reshape(2,3)"
   ]
  },
  {
   "cell_type": "code",
   "execution_count": 65,
   "id": "8100d995",
   "metadata": {},
   "outputs": [
    {
     "data": {
      "text/plain": [
       "array([[0, 1, 2, 3],\n",
       "       [4, 5, 6, 7]])"
      ]
     },
     "execution_count": 65,
     "metadata": {},
     "output_type": "execute_result"
    }
   ],
   "source": [
    "arr1=np.arange(0,8).reshape(2,4)\n",
    "arr1"
   ]
  },
  {
   "cell_type": "code",
   "execution_count": 67,
   "id": "c12f3d96",
   "metadata": {},
   "outputs": [
    {
     "data": {
      "text/plain": [
       "array([[0, 1],\n",
       "       [2, 3],\n",
       "       [4, 5],\n",
       "       [6, 7]])"
      ]
     },
     "execution_count": 67,
     "metadata": {},
     "output_type": "execute_result"
    }
   ],
   "source": [
    "arr1.reshape(4,2)"
   ]
  },
  {
   "cell_type": "markdown",
   "id": "bf7f5c68",
   "metadata": {},
   "source": [
    "**5. Use NumPy to generate a random number between 0 and 1**"
   ]
  },
  {
   "cell_type": "code",
   "execution_count": 58,
   "id": "7aa4b2f3",
   "metadata": {},
   "outputs": [
    {
     "data": {
      "text/plain": [
       "array([0.23157064])"
      ]
     },
     "execution_count": 58,
     "metadata": {},
     "output_type": "execute_result"
    }
   ],
   "source": [
    "np.random.rand(1)"
   ]
  },
  {
   "cell_type": "markdown",
   "id": "36ac1aa9",
   "metadata": {},
   "source": [
    "**6. Use NumPy to generate 25 random numbers sampled from a standard normal distribution**"
   ]
  },
  {
   "cell_type": "code",
   "execution_count": 59,
   "id": "3c7de8cd",
   "metadata": {},
   "outputs": [
    {
     "data": {
      "text/plain": [
       "array([0.8867224 , 0.7003701 , 0.9995269 , 0.06392683, 0.01109143,\n",
       "       0.01937587, 0.33667636, 0.32628313, 0.22365454, 0.23490587,\n",
       "       0.48042496, 0.94527258, 0.24127254, 0.59776094, 0.94994879,\n",
       "       0.0847822 , 0.23859484, 0.02367677, 0.05335627, 0.7757987 ,\n",
       "       0.99448864, 0.49662014, 0.63162793, 0.92969035, 0.57922127])"
      ]
     },
     "execution_count": 59,
     "metadata": {},
     "output_type": "execute_result"
    }
   ],
   "source": [
    "np.random.rand(25)"
   ]
  },
  {
   "cell_type": "markdown",
   "id": "1f5cb51b",
   "metadata": {},
   "source": [
    "**7. Create a matrix of 100 items spaced equally at 0.01 steps ranged from 0.01 to 1**"
   ]
  },
  {
   "cell_type": "code",
   "execution_count": 60,
   "id": "873fb35f",
   "metadata": {},
   "outputs": [
    {
     "data": {
      "text/plain": [
       "array([[0.01, 0.02, 0.03, 0.04, 0.05, 0.06, 0.07, 0.08, 0.09, 0.1 ],\n",
       "       [0.11, 0.12, 0.13, 0.14, 0.15, 0.16, 0.17, 0.18, 0.19, 0.2 ],\n",
       "       [0.21, 0.22, 0.23, 0.24, 0.25, 0.26, 0.27, 0.28, 0.29, 0.3 ],\n",
       "       [0.31, 0.32, 0.33, 0.34, 0.35, 0.36, 0.37, 0.38, 0.39, 0.4 ],\n",
       "       [0.41, 0.42, 0.43, 0.44, 0.45, 0.46, 0.47, 0.48, 0.49, 0.5 ],\n",
       "       [0.51, 0.52, 0.53, 0.54, 0.55, 0.56, 0.57, 0.58, 0.59, 0.6 ],\n",
       "       [0.61, 0.62, 0.63, 0.64, 0.65, 0.66, 0.67, 0.68, 0.69, 0.7 ],\n",
       "       [0.71, 0.72, 0.73, 0.74, 0.75, 0.76, 0.77, 0.78, 0.79, 0.8 ],\n",
       "       [0.81, 0.82, 0.83, 0.84, 0.85, 0.86, 0.87, 0.88, 0.89, 0.9 ],\n",
       "       [0.91, 0.92, 0.93, 0.94, 0.95, 0.96, 0.97, 0.98, 0.99, 1.  ]])"
      ]
     },
     "execution_count": 60,
     "metadata": {},
     "output_type": "execute_result"
    }
   ],
   "source": [
    "np.arange(1,101).reshape(10,10)/100"
   ]
  },
  {
   "cell_type": "code",
   "execution_count": 62,
   "id": "fac08395",
   "metadata": {},
   "outputs": [
    {
     "data": {
      "text/plain": [
       "array([[0.01, 0.02, 0.03, 0.04, 0.05, 0.06, 0.07, 0.08, 0.09, 0.1 ],\n",
       "       [0.11, 0.12, 0.13, 0.14, 0.15, 0.16, 0.17, 0.18, 0.19, 0.2 ],\n",
       "       [0.21, 0.22, 0.23, 0.24, 0.25, 0.26, 0.27, 0.28, 0.29, 0.3 ],\n",
       "       [0.31, 0.32, 0.33, 0.34, 0.35, 0.36, 0.37, 0.38, 0.39, 0.4 ],\n",
       "       [0.41, 0.42, 0.43, 0.44, 0.45, 0.46, 0.47, 0.48, 0.49, 0.5 ],\n",
       "       [0.51, 0.52, 0.53, 0.54, 0.55, 0.56, 0.57, 0.58, 0.59, 0.6 ],\n",
       "       [0.61, 0.62, 0.63, 0.64, 0.65, 0.66, 0.67, 0.68, 0.69, 0.7 ],\n",
       "       [0.71, 0.72, 0.73, 0.74, 0.75, 0.76, 0.77, 0.78, 0.79, 0.8 ],\n",
       "       [0.81, 0.82, 0.83, 0.84, 0.85, 0.86, 0.87, 0.88, 0.89, 0.9 ],\n",
       "       [0.91, 0.92, 0.93, 0.94, 0.95, 0.96, 0.97, 0.98, 0.99, 1.  ]])"
      ]
     },
     "execution_count": 62,
     "metadata": {},
     "output_type": "execute_result"
    }
   ],
   "source": [
    "np.linspace(0.01,1,100).reshape(10,10)  #Returning the exact same result as above"
   ]
  },
  {
   "cell_type": "markdown",
   "id": "cfd6d714",
   "metadata": {},
   "source": [
    "**8. Create an Array of 20 linearly spaced points between 0 and 1**"
   ]
  },
  {
   "cell_type": "code",
   "execution_count": 63,
   "id": "924b04af",
   "metadata": {},
   "outputs": [
    {
     "data": {
      "text/plain": [
       "array([0.        , 0.05263158, 0.10526316, 0.15789474, 0.21052632,\n",
       "       0.26315789, 0.31578947, 0.36842105, 0.42105263, 0.47368421,\n",
       "       0.52631579, 0.57894737, 0.63157895, 0.68421053, 0.73684211,\n",
       "       0.78947368, 0.84210526, 0.89473684, 0.94736842, 1.        ])"
      ]
     },
     "execution_count": 63,
     "metadata": {},
     "output_type": "execute_result"
    }
   ],
   "source": [
    "np.linspace(0,1,20)"
   ]
  },
  {
   "cell_type": "markdown",
   "id": "b39d8136",
   "metadata": {},
   "source": [
    "**Thank You**"
   ]
  },
  {
   "cell_type": "code",
   "execution_count": null,
   "id": "d23343ed",
   "metadata": {},
   "outputs": [],
   "source": []
  }
 ],
 "metadata": {
  "kernelspec": {
   "display_name": "Python 3 (ipykernel)",
   "language": "python",
   "name": "python3"
  },
  "language_info": {
   "codemirror_mode": {
    "name": "ipython",
    "version": 3
   },
   "file_extension": ".py",
   "mimetype": "text/x-python",
   "name": "python",
   "nbconvert_exporter": "python",
   "pygments_lexer": "ipython3",
   "version": "3.9.12"
  }
 },
 "nbformat": 4,
 "nbformat_minor": 5
}
